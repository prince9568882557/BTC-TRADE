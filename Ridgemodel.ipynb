{
  "nbformat": 4,
  "nbformat_minor": 0,
  "metadata": {
    "colab": {
      "provenance": []
    },
    "kernelspec": {
      "name": "python3",
      "display_name": "Python 3"
    },
    "language_info": {
      "name": "python"
    }
  },
  "cells": [
    {
      "cell_type": "code",
      "execution_count": null,
      "metadata": {
        "id": "4ePIR2URUvAA"
      },
      "outputs": [],
      "source": [
        "import pandas as pd\n",
        "from sklearn.model_selection import train_test_split\n",
        "from sklearn.linear_model import HuberRegressor\n",
        "from sklearn.metrics import mean_squared_error, r2_score\n",
        "from sklearn.impute import SimpleImputer\n",
        "from sklearn.preprocessing import StandardScaler\n",
        "\n",
        "# data acquisition\n",
        "df = pd.read_csv('/content/USDT-BTC.csv')\n",
        "df['Date'] = pd.to_datetime(df['Date'])\n",
        "\n",
        "# data selection\n",
        "\n",
        "X = df[['Open', 'High', 'Low', 'Adj Close', 'Volume']]\n",
        "y = df['Close']\n",
        "\n",
        "# dropping null values\n",
        "missing_values = y.isnull()\n",
        "X = X[~missing_values]\n",
        "y = y.dropna()\n",
        "\n",
        "# splitting, training and testing\n",
        "X_train, X_test, y_train, y_test = train_test_split(X, y, test_size=0.2, random_state=42)\n",
        "\n",
        "\n",
        "imputer = SimpleImputer(strategy='mean')\n",
        "X_train_imputed = imputer.fit_transform(X_train)\n",
        "X_test_imputed = imputer.transform(X_test)\n",
        "\n",
        "\n",
        "scaler = StandardScaler()\n",
        "X_train_scaled = scaler.fit_transform(X_train_imputed)\n",
        "X_test_scaled = scaler.transform(X_test_imputed)"
      ]
    },
    {
      "cell_type": "code",
      "source": [
        "from sklearn.linear_model import Ridge\n",
        "\n",
        "# Train Ridge Regression model\n",
        "ridge_model = Ridge(alpha=1.0)  # You can adjust the alpha parameter for regularization\n",
        "ridge_model.fit(X_train_scaled, y_train)\n",
        "\n",
        "# Make predictions on the test set\n",
        "y_pred = ridge_model.predict(X_test_scaled)\n",
        "\n",
        "# Evaluate the model\n",
        "mse = mean_squared_error(y_test, y_pred)\n",
        "r2 = r2_score(y_test, y_pred)\n",
        "\n",
        "print(f\"Mean Squared Error (MSE): {mse}\")\n",
        "print(f\"R-squared (R2): {r2}\")\n"
      ],
      "metadata": {
        "id": "sY35h7hUWapg",
        "outputId": "ab32098e-7bcb-47bb-91d8-84088c608e53",
        "colab": {
          "base_uri": "https://localhost:8080/"
        }
      },
      "execution_count": null,
      "outputs": [
        {
          "output_type": "stream",
          "name": "stdout",
          "text": [
            "Mean Squared Error (MSE): 4.5300807773669455e-13\n",
            "R-squared (R2): 0.9999184455618215\n"
          ]
        }
      ]
    },
    {
      "cell_type": "code",
      "source": [
        "daily_returns = pd.Series(y_pred).pct_change()\n",
        "cumulative_returns = (1 + daily_returns).cumprod()\n",
        "drawdowns = 1 - (cumulative_returns / cumulative_returns.cummax())\n",
        "max_drawdown = drawdowns.max()\n",
        "# Calculate daily returns\n",
        "daily_returns = pd.Series(y_pred).pct_change()\n",
        "\n",
        "# Calculate cumulative returns\n",
        "cumulative_returns = (1 + daily_returns).cumprod()\n",
        "\n",
        "# Calculate drawdowns\n",
        "drawdowns = 1 - (cumulative_returns / cumulative_returns.cummax())\n",
        "\n",
        "# Find maximum drawdown\n",
        "max_drawdown = drawdowns.max()\n",
        "\n",
        "print(f\"Maximum Drawdown: {max_drawdown}\")\n"
      ],
      "metadata": {
        "colab": {
          "base_uri": "https://localhost:8080/"
        },
        "id": "rgYDHG_fL54J",
        "outputId": "67a833a2-4900-4bb1-a1da-91e5dff11ed6"
      },
      "execution_count": null,
      "outputs": [
        {
          "output_type": "stream",
          "name": "stdout",
          "text": [
            "Maximum Drawdown: 0.9480664489696534\n"
          ]
        }
      ]
    },
    {
      "cell_type": "code",
      "source": [
        "# Calculate daily returns\n",
        "predicted_returns = (y_pred[1:] - y_pred[:-1]) / y_pred[:-1]\n",
        "actual_returns = (y_test.values[1:] - y_test.values[:-1]) / y_test.values[:-1]\n",
        "\n",
        "# Assume risk-free rate is 0.02 (2%)\n",
        "risk_free_rate = 0.02\n",
        "\n",
        "# Calculate excess returns\n",
        "excess_returns = predicted_returns - risk_free_rate\n",
        "\n",
        "# Calculate Sharpe ratio\n",
        "sharpe_ratio = excess_returns.mean() / excess_returns.std()\n",
        "\n",
        "print(\"Sharpe Ratio of the model : \",sharpe_ratio)\n"
      ],
      "metadata": {
        "colab": {
          "base_uri": "https://localhost:8080/"
        },
        "id": "UtyPTSscMrFK",
        "outputId": "bb253719-91a0-443c-a765-1ac90388a9fc"
      },
      "execution_count": null,
      "outputs": [
        {
          "output_type": "stream",
          "name": "stdout",
          "text": [
            "Sharpe Ratio of the model :  0.37673869068805604\n"
          ]
        }
      ]
    },
    {
      "cell_type": "code",
      "source": [
        "# Assuming y_pred contains the predicted returns\n",
        "# Define a simple trading strategy\n",
        "threshold = 0.5  # Arbitrary threshold for trading decisions\n",
        "profits = []\n",
        "\n",
        "for i in range(len(y_pred)):\n",
        "    if y_pred[i] > threshold:  # Buy signal\n",
        "        profits.append(y_test.iloc[i + 1] - y_test.iloc[i])  # Profit is the change in price\n",
        "\n",
        "# Calculate net profit exceeding return\n",
        "net_profit = sum(profits)\n",
        "baseline_return = y_test.iloc[-1] - y_test.iloc[0]  # Buy-and-hold return\n",
        "exceeding_return = net_profit - baseline_return\n",
        "\n",
        "print(f\"Net Profit Exceeding Return: {exceeding_return}\")\n"
      ],
      "metadata": {
        "colab": {
          "base_uri": "https://localhost:8080/"
        },
        "id": "1cqWE3wxNakk",
        "outputId": "50d5800e-a43c-4425-dc2e-cf3d1a9e2fa1"
      },
      "execution_count": null,
      "outputs": [
        {
          "output_type": "stream",
          "name": "stdout",
          "text": [
            "Net Profit Exceeding Return: 7e-05\n"
          ]
        }
      ]
    },
    {
      "cell_type": "code",
      "source": [
        "risk = mse  # Considering MSE as the risk\n",
        "reward = r2  # Considering R-squared as the reward\n",
        "\n",
        "if risk != 0:  # To avoid division by zero\n",
        "    risk_reward_ratio = reward / risk\n",
        "    print(f\"Risk-Reward Ratio: {risk_reward_ratio}\")\n",
        "else:\n",
        "    print(\"Risk-Reward Ratio cannot be computed because risk is zero.\")\n"
      ],
      "metadata": {
        "colab": {
          "base_uri": "https://localhost:8080/"
        },
        "id": "KDYkf5yfN0e-",
        "outputId": "6711a4f8-af2b-4f81-c865-c7b2de3b05d6"
      },
      "execution_count": null,
      "outputs": [
        {
          "output_type": "stream",
          "name": "stdout",
          "text": [
            "Risk-Reward Ratio: 2207286127341.447\n"
          ]
        }
      ]
    },
    {
      "cell_type": "code",
      "source": [
        "# Assuming 'df' is the original DataFrame with 'Date' column in datetime format\n",
        "\n",
        "# Sort the DataFrame by 'Date'\n",
        "df_sorted = df.sort_values('Date')\n",
        "\n",
        "# Find the maximum duration time of a single trade\n",
        "max_duration = max(df_sorted['Date'].diff().dt.total_seconds().dropna())\n",
        "\n",
        "print(f\"Maximum duration time of a single trade: {max_duration} seconds\")\n"
      ],
      "metadata": {
        "id": "D8YaZOZHOW17",
        "outputId": "bf2b00e6-f164-4795-ea76-f6674eb8a09e",
        "colab": {
          "base_uri": "https://localhost:8080/"
        }
      },
      "execution_count": null,
      "outputs": [
        {
          "output_type": "stream",
          "name": "stdout",
          "text": [
            "Maximum duration time of a single trade: 2678400.0 seconds\n"
          ]
        }
      ]
    }
  ]
}